{
 "cells": [
  {
   "cell_type": "markdown",
   "id": "e9a45bf1-0b1e-43d9-b676-0c4143a7a85f",
   "metadata": {},
   "source": [
    "# Experimento de la Doble Rendija\n",
    "\n",
    "## Introducción\n",
    "El experimento de la doble rendija es una demostración de los conceptos fundamentales de la mecánica cuántica.\n",
    "El experimento implica el paso de partículas, como electrones o fotones, a través de una barrera con dos rendijas paralelas.\n",
    "Estas partículas se emiten una a la vez desde una fuente y se dejan viajar hacia una pantalla de detección colocada detrás de la barrera. \n",
    "Este experimento es tan intrigante por el patrón de interferencia que se observa en la pantalla de detección.  A pesar de que las partículas \n",
    "se envían individualmente, el patrón de detección en la pantalla es consistente con el fenómeno de la interferencia de ondas. \n",
    "En lugar de ver simplemente dos franjas luminosas detrás de cada rendija, se observa un patrón de franjas alternas de luz y oscuridad, \n",
    "similar al que se observaría si se tratara de ondas que interfieren entre sí. Este resultado sugiere que las partículas, en lugar de seguir \n",
    "trayectorias bien definidas, se comportan de manera probabilística y pueden interferir consigo mismas.\n",
    "\n",
    "## Materiales \n",
    "- Laser\n",
    "- Soportes\n",
    "- Lamina\n",
    "- Bisturí\n",
    "\n",
    "## Procedimiento\n",
    "Perforamos dos rendijas paralelas en la barrera con un espacio adecuado entre ellas. Las cuales deben ser lo suficientemente estrechas \n",
    "para permitir el paso de las partículas, pero lo suficientemente anchas como para que la luz o el flujo de partículas sean detectables. \n",
    "Utilizamos una fuente que emita partículas de forma individual como un láser. Nos aseguramos de que la fuente esté alineada correctamente \n",
    "con las rendijas para que las partículas puedan pasar a través de ellas sin obstrucciones. Para alinear el láser y las rendijas, usamos dos \n",
    "soportes tanto para el láser como para la placa. Después de nivelarlos, alineamos la luz del láser con la salida del láser.\n",
    "\n",
    "## Conclusiones \n",
    "El patrón de interferencia observado en la pantalla de detección sugiere que las partículas subatómicas no siguen trayectorias bien definidas \n",
    "como lo harían las partículas clásicas, sino que se comportan de manera probabilística.\n",
    "\n",
    "## Resultados\n",
    "A continuacion se muestra las imagenes del montaje\n"
   ]
  },
  {
   "cell_type": "markdown",
   "id": "fec5cd4d-1c85-4b5b-9cfd-c9518f664bca",
   "metadata": {},
   "source": [
    "<img src=\"images/Prueba1.png\" alt=\"Imagen 1\" width=\"200\" height=\"200\">\n",
    "<img src=\"images/Prueba2.png\" alt=\"Imagen 2\" width=\"200\" height=\"200\">\n",
    "<img src=\"images/Montaje.png\" alt=\"Imagen 3\" width=\"200\" height=\"200\">"
   ]
  }
 ],
 "metadata": {
  "kernelspec": {
   "display_name": "Python 3 (ipykernel)",
   "language": "python",
   "name": "python3"
  },
  "language_info": {
   "codemirror_mode": {
    "name": "ipython",
    "version": 3
   },
   "file_extension": ".py",
   "mimetype": "text/x-python",
   "name": "python",
   "nbconvert_exporter": "python",
   "pygments_lexer": "ipython3",
   "version": "3.11.5"
  }
 },
 "nbformat": 4,
 "nbformat_minor": 5
}
